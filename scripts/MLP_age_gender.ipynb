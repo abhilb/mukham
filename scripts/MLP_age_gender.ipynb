{
 "cells": [
  {
   "cell_type": "code",
   "execution_count": 6,
   "id": "8320b7a0",
   "metadata": {},
   "outputs": [],
   "source": [
    "from pathlib import Path"
   ]
  },
  {
   "cell_type": "code",
   "execution_count": 2,
   "id": "715082e1",
   "metadata": {},
   "outputs": [
    {
     "name": "stdout",
     "output_type": "stream",
     "text": [
      "\u001b[31mInvalid requirement: '/home/pi/Downloads/torch-1.8.0a0+37c1f4a-cp37-cp37m-linux_aarch64'\r\n",
      "It looks like a path. File '/home/pi/Downloads/torch-1.8.0a0+37c1f4a-cp37-cp37m-linux_aarch64' does not exist.\u001b[0m\r\n"
     ]
    }
   ],
   "source": [
    "!pip3 install ~/Downloads/torch-1.8.0a0+37c1f4a-cp37-cp37m-linux_aarch64\n"
   ]
  },
  {
   "cell_type": "code",
   "execution_count": 7,
   "id": "f597f67c",
   "metadata": {},
   "outputs": [
    {
     "data": {
      "text/plain": [
       "True"
      ]
     },
     "execution_count": 7,
     "metadata": {},
     "output_type": "execute_result"
    }
   ],
   "source": [
    "model_dir = Path.cwd().parent / \"models\" / \"mlp_age_gender\"\n",
    "model_dir.exists()"
   ]
  },
  {
   "cell_type": "code",
   "execution_count": null,
   "id": "1fc64a31",
   "metadata": {},
   "outputs": [],
   "source": []
  }
 ],
 "metadata": {
  "kernelspec": {
   "display_name": "Python 3 (ipykernel)",
   "language": "python",
   "name": "python3"
  },
  "language_info": {
   "codemirror_mode": {
    "name": "ipython",
    "version": 3
   },
   "file_extension": ".py",
   "mimetype": "text/x-python",
   "name": "python",
   "nbconvert_exporter": "python",
   "pygments_lexer": "ipython3",
   "version": "3.7.3"
  }
 },
 "nbformat": 4,
 "nbformat_minor": 5
}
