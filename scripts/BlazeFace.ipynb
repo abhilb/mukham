{
 "cells": [
  {
   "cell_type": "code",
   "execution_count": 1,
   "id": "4fe42c27",
   "metadata": {},
   "outputs": [],
   "source": [
    "from pathlib import Path\n",
    "import tflite\n",
    "import tvm\n",
    "from tvm import relay, transform\n",
    "from tvm import te\n",
    "import matplotlib.pyplot as plt\n",
    "import imageio\n",
    "import cv2\n",
    "import numpy as np"
   ]
  },
  {
   "cell_type": "code",
   "execution_count": 2,
   "id": "a5b52170",
   "metadata": {},
   "outputs": [
    {
     "data": {
      "text/plain": [
       "True"
      ]
     },
     "execution_count": 2,
     "metadata": {},
     "output_type": "execute_result"
    }
   ],
   "source": [
    "model_path = Path.cwd().parent / 'models' / 'face_detection_short_range.tflite'\n",
    "model_path.exists()"
   ]
  },
  {
   "cell_type": "code",
   "execution_count": 3,
   "id": "bedfc37d",
   "metadata": {},
   "outputs": [
    {
     "name": "stderr",
     "output_type": "stream",
     "text": [
      "conv2d NHWC layout is not optimized for x86 with autotvm.\n",
      "depthwise_conv2d NHWC layout is not optimized for x86 with autotvm.\n",
      "conv2d NHWC layout is not optimized for x86 with autotvm.\n",
      "depthwise_conv2d NHWC layout is not optimized for x86 with autotvm.\n",
      "conv2d NHWC layout is not optimized for x86 with autotvm.\n",
      "depthwise_conv2d NHWC layout is not optimized for x86 with autotvm.\n",
      "conv2d NHWC layout is not optimized for x86 with autotvm.\n",
      "depthwise_conv2d NHWC layout is not optimized for x86 with autotvm.\n",
      "conv2d NHWC layout is not optimized for x86 with autotvm.\n",
      "depthwise_conv2d NHWC layout is not optimized for x86 with autotvm.\n",
      "conv2d NHWC layout is not optimized for x86 with autotvm.\n",
      "depthwise_conv2d NHWC layout is not optimized for x86 with autotvm.\n",
      "conv2d NHWC layout is not optimized for x86 with autotvm.\n",
      "depthwise_conv2d NHWC layout is not optimized for x86 with autotvm.\n",
      "conv2d NHWC layout is not optimized for x86 with autotvm.\n",
      "depthwise_conv2d NHWC layout is not optimized for x86 with autotvm.\n",
      "conv2d NHWC layout is not optimized for x86 with autotvm.\n",
      "depthwise_conv2d NHWC layout is not optimized for x86 with autotvm.\n",
      "conv2d NHWC layout is not optimized for x86 with autotvm.\n",
      "depthwise_conv2d NHWC layout is not optimized for x86 with autotvm.\n",
      "conv2d NHWC layout is not optimized for x86 with autotvm.\n",
      "depthwise_conv2d NHWC layout is not optimized for x86 with autotvm.\n",
      "conv2d NHWC layout is not optimized for x86 with autotvm.\n",
      "conv2d NHWC layout is not optimized for x86 with autotvm.\n",
      "depthwise_conv2d NHWC layout is not optimized for x86 with autotvm.\n",
      "conv2d NHWC layout is not optimized for x86 with autotvm.\n",
      "depthwise_conv2d NHWC layout is not optimized for x86 with autotvm.\n",
      "conv2d NHWC layout is not optimized for x86 with autotvm.\n",
      "depthwise_conv2d NHWC layout is not optimized for x86 with autotvm.\n",
      "conv2d NHWC layout is not optimized for x86 with autotvm.\n",
      "depthwise_conv2d NHWC layout is not optimized for x86 with autotvm.\n",
      "conv2d NHWC layout is not optimized for x86 with autotvm.\n",
      "depthwise_conv2d NHWC layout is not optimized for x86 with autotvm.\n",
      "conv2d NHWC layout is not optimized for x86 with autotvm.\n",
      "conv2d NHWC layout is not optimized for x86 with autotvm.\n",
      "conv2d NHWC layout is not optimized for x86 with autotvm.\n",
      "conv2d NHWC layout is not optimized for x86 with autotvm.\n",
      "conv2d NHWC layout is not optimized for x86 with autotvm.\n",
      "depthwise_conv2d NHWC layout is not optimized for x86 with autotvm.\n",
      "conv2d NHWC layout is not optimized for x86 with autotvm.\n",
      "conv2d NHWC layout is not optimized for x86 with autotvm.\n",
      "depthwise_conv2d NHWC layout is not optimized for x86 with autotvm.\n",
      "conv2d NHWC layout is not optimized for x86 with autotvm.\n",
      "depthwise_conv2d NHWC layout is not optimized for x86 with autotvm.\n",
      "conv2d NHWC layout is not optimized for x86 with autotvm.\n",
      "depthwise_conv2d NHWC layout is not optimized for x86 with autotvm.\n",
      "conv2d NHWC layout is not optimized for x86 with autotvm.\n",
      "depthwise_conv2d NHWC layout is not optimized for x86 with autotvm.\n",
      "conv2d NHWC layout is not optimized for x86 with autotvm.\n",
      "depthwise_conv2d NHWC layout is not optimized for x86 with autotvm.\n",
      "conv2d NHWC layout is not optimized for x86 with autotvm.\n",
      "depthwise_conv2d NHWC layout is not optimized for x86 with autotvm.\n",
      "conv2d NHWC layout is not optimized for x86 with autotvm.\n",
      "depthwise_conv2d NHWC layout is not optimized for x86 with autotvm.\n",
      "conv2d NHWC layout is not optimized for x86 with autotvm.\n",
      "depthwise_conv2d NHWC layout is not optimized for x86 with autotvm.\n",
      "conv2d NHWC layout is not optimized for x86 with autotvm.\n",
      "depthwise_conv2d NHWC layout is not optimized for x86 with autotvm.\n",
      "conv2d NHWC layout is not optimized for x86 with autotvm.\n",
      "conv2d NHWC layout is not optimized for x86 with autotvm.\n",
      "depthwise_conv2d NHWC layout is not optimized for x86 with autotvm.\n",
      "conv2d NHWC layout is not optimized for x86 with autotvm.\n",
      "depthwise_conv2d NHWC layout is not optimized for x86 with autotvm.\n",
      "conv2d NHWC layout is not optimized for x86 with autotvm.\n",
      "conv2d NHWC layout is not optimized for x86 with autotvm.\n",
      "conv2d NHWC layout is not optimized for x86 with autotvm.\n",
      "conv2d NHWC layout is not optimized for x86 with autotvm.\n"
     ]
    }
   ],
   "source": [
    "with open(model_path, 'rb') as f:\n",
    "    tflite_model_buf = f.read()\n",
    "    tflite_model = tflite.Model.GetRootAsModel(tflite_model_buf, 0)\n",
    "    input_tensor = \"input\"\n",
    "    input_shape  = (1, 128, 128, 3)\n",
    "    input_dtype  = \"float32\"\n",
    "    \n",
    "    mod, params = relay.frontend.from_tflite(\n",
    "        tflite_model, \n",
    "        shape_dict = {input_tensor: input_shape},\n",
    "        dtype_dict = {input_tensor: input_dtype}\n",
    "    )\n",
    "    target = \"llvm\"\n",
    "    with transform.PassContext(opt_level=3):\n",
    "        lib=relay.build(mod, target, params=params)"
   ]
  },
  {
   "cell_type": "code",
   "execution_count": 4,
   "id": "855937b7",
   "metadata": {},
   "outputs": [
    {
     "data": {
      "text/plain": [
       "True"
      ]
     },
     "execution_count": 4,
     "metadata": {},
     "output_type": "execute_result"
    }
   ],
   "source": [
    "video_path = Path.cwd().parent / \"build\" / \"demo1.mp4\"\n",
    "video_path.exists()"
   ]
  },
  {
   "cell_type": "code",
   "execution_count": 6,
   "id": "50c745e6",
   "metadata": {},
   "outputs": [],
   "source": [
    "reader = imageio.get_reader(str(video_path))"
   ]
  },
  {
   "cell_type": "code",
   "execution_count": 7,
   "id": "75223d51",
   "metadata": {},
   "outputs": [
    {
     "data": {
      "text/plain": [
       "((128, 128, 3), dtype('float32'))"
      ]
     },
     "execution_count": 7,
     "metadata": {},
     "output_type": "execute_result"
    }
   ],
   "source": [
    "image_data = None\n",
    "for frame in reader:\n",
    "    image_data = cv2.resize(frame, (128, 128))\n",
    "    image_data = image_data * 1.0 / 255.0\n",
    "    image_data = image_data.astype(np.float32)\n",
    "    break\n",
    "image_data.shape, image_data.dtype"
   ]
  },
  {
   "cell_type": "code",
   "execution_count": 8,
   "id": "5826ee60",
   "metadata": {},
   "outputs": [
    {
     "data": {
      "text/plain": [
       "(1, 128, 128, 3)"
      ]
     },
     "execution_count": 8,
     "metadata": {},
     "output_type": "execute_result"
    }
   ],
   "source": [
    "image_data = image_data[np.newaxis, :]\n",
    "image_data.shape"
   ]
  },
  {
   "cell_type": "code",
   "execution_count": 9,
   "id": "34bd2bac",
   "metadata": {},
   "outputs": [
    {
     "data": {
      "image/png": "[encoded data removed]",
      "text/plain": [
       "<Figure size 432x288 with 1 Axes>"
      ]
     },
     "metadata": {
      "needs_background": "light"
     },
     "output_type": "display_data"
    }
   ],
   "source": [
    "plt.imshow(np.squeeze(image_data))\n",
    "plt.show()"
   ]
  },
  {
   "cell_type": "code",
   "execution_count": 10,
   "id": "cc729ae9",
   "metadata": {},
   "outputs": [],
   "source": [
    "import tvm\n",
    "from tvm import te\n",
    "from tvm.contrib import graph_executor as runtime\n",
    "\n",
    "# Create a runtime executor module\n",
    "module = runtime.GraphModule(lib[\"default\"](tvm.cpu()))\n",
    "\n",
    "# Feed input data\n",
    "module.set_input(input_tensor, tvm.nd.array(image_data))\n",
    "\n",
    "# Run\n",
    "module.run()"
   ]
  },
  {
   "cell_type": "code",
   "execution_count": 11,
   "id": "5e4e8088",
   "metadata": {},
   "outputs": [],
   "source": [
    "output_1 = module.get_output(0).numpy()\n",
    "output_2 = module.get_output(1).numpy()"
   ]
  },
  {
   "cell_type": "code",
   "execution_count": 12,
   "id": "01985286",
   "metadata": {},
   "outputs": [
    {
     "data": {
      "text/plain": [
       "(1, 896, 16)"
      ]
     },
     "execution_count": 12,
     "metadata": {},
     "output_type": "execute_result"
    }
   ],
   "source": [
    "output_1.shape"
   ]
  },
  {
   "cell_type": "code",
   "execution_count": 13,
   "id": "76a4acc7",
   "metadata": {},
   "outputs": [
    {
     "data": {
      "text/plain": [
       "(1, 896, 1)"
      ]
     },
     "execution_count": 13,
     "metadata": {},
     "output_type": "execute_result"
    }
   ],
   "source": [
    "output_2.shape"
   ]
  },
  {
   "cell_type": "code",
   "execution_count": 14,
   "id": "5b4a2cf0",
   "metadata": {},
   "outputs": [
    {
     "data": {
      "text/plain": [
       "1.5855491"
      ]
     },
     "execution_count": 14,
     "metadata": {},
     "output_type": "execute_result"
    }
   ],
   "source": [
    "scores = np.squeeze(output_2)\n",
    "max_score_index = np.argmax(scores)\n",
    "max_score = scores[max_score_index]\n",
    "max_score"
   ]
  },
  {
   "cell_type": "code",
   "execution_count": 15,
   "id": "a6aa2890",
   "metadata": {},
   "outputs": [],
   "source": [
    "boxes = np.squeeze(output_1)"
   ]
  },
  {
   "cell_type": "code",
   "execution_count": 21,
   "id": "edb71314",
   "metadata": {},
   "outputs": [
    {
     "data": {
      "text/plain": [
       "((896, 16), dtype('float32'))"
      ]
     },
     "execution_count": 21,
     "metadata": {},
     "output_type": "execute_result"
    }
   ],
   "source": [
    "boxes.shape, boxes.dtype"
   ]
  },
  {
   "cell_type": "code",
   "execution_count": 22,
   "id": "8a65bcba",
   "metadata": {},
   "outputs": [
    {
     "data": {
      "text/plain": [
       "array([ 0.12165964, -0.73016846, 27.367645  , 27.367355  , -2.6123471 ,\n",
       "       -5.437415  ,  2.4174035 , -5.938799  , -0.44377953, -1.7667279 ,\n",
       "       -1.6093922 ,  3.4959435 , -8.234564  , -2.3835871 ,  6.875955  ,\n",
       "       -2.5142145 ], dtype=float32)"
      ]
     },
     "execution_count": 22,
     "metadata": {},
     "output_type": "execute_result"
    }
   ],
   "source": [
    "boxes[0]"
   ]
  },
  {
   "cell_type": "code",
   "execution_count": 20,
   "id": "2b9f942b",
   "metadata": {},
   "outputs": [
    {
     "data": {
      "text/plain": [
       "(896,)"
      ]
     },
     "execution_count": 20,
     "metadata": {},
     "output_type": "execute_result"
    }
   ],
   "source": [
    "scores.shape"
   ]
  },
  {
   "cell_type": "code",
   "execution_count": 18,
   "id": "0d3e0057",
   "metadata": {},
   "outputs": [
    {
     "ename": "error",
     "evalue": "Conversion error: bboxes, what: OpenCV(4.5.3) /tmp/pip-wheel-pd499c9i/opencv-python_3a15e83eee864e65b7311a199a94e9f1/opencv/modules/core/src/copy.cpp:320: error: (-215:Assertion failed) channels() == CV_MAT_CN(dtype) in function 'copyTo'\n",
     "output_type": "error",
     "traceback": [
      "\u001b[0;31m---------------------------------------------------------------------------\u001b[0m",
      "\u001b[0;31merror\u001b[0m                                     Traceback (most recent call last)",
      "\u001b[0;32m/tmp/ipykernel_15067/3329092240.py\u001b[0m in \u001b[0;36m<module>\u001b[0;34m\u001b[0m\n\u001b[0;32m----> 1\u001b[0;31m \u001b[0mcv2\u001b[0m\u001b[0;34m.\u001b[0m\u001b[0mdnn\u001b[0m\u001b[0;34m.\u001b[0m\u001b[0mNMSBoxes\u001b[0m\u001b[0;34m(\u001b[0m\u001b[0mboxes\u001b[0m\u001b[0;34m,\u001b[0m \u001b[0mscores\u001b[0m\u001b[0;34m,\u001b[0m \u001b[0;36m0.3\u001b[0m\u001b[0;34m,\u001b[0m \u001b[0;36m0.1\u001b[0m\u001b[0;34m)\u001b[0m\u001b[0;34m\u001b[0m\u001b[0;34m\u001b[0m\u001b[0m\n\u001b[0m",
      "\u001b[0;31merror\u001b[0m: Conversion error: bboxes, what: OpenCV(4.5.3) /tmp/pip-wheel-pd499c9i/opencv-python_3a15e83eee864e65b7311a199a94e9f1/opencv/modules/core/src/copy.cpp:320: error: (-215:Assertion failed) channels() == CV_MAT_CN(dtype) in function 'copyTo'\n"
     ]
    }
   ],
   "source": [
    "cv2.dnn.NMSBoxes(boxes, scores, 0.3, 0.1)"
   ]
  },
  {
   "cell_type": "code",
   "execution_count": 32,
   "id": "07b70bb4",
   "metadata": {},
   "outputs": [
    {
     "data": {
      "text/plain": [
       "array([ 5.2574963e+02,  8.8113513e+02,  1.2021270e+04,  1.2022848e+04,\n",
       "       -2.3693877e+03, -2.3095798e+03,  3.3100671e+03, -2.2170645e+03,\n",
       "        3.1589273e+02,  5.8873367e+00,  2.9502081e+02,  3.0557544e+03,\n",
       "       -5.0939839e+03, -4.7800259e+02,  6.2647568e+03, -3.5473773e+02],\n",
       "      dtype=float32)"
      ]
     },
     "execution_count": 32,
     "metadata": {},
     "output_type": "execute_result"
    }
   ],
   "source": [
    "best_box = boxes[max_score_index]\n",
    "best_box * 128"
   ]
  },
  {
   "cell_type": "code",
   "execution_count": 38,
   "id": "22125790",
   "metadata": {},
   "outputs": [
    {
     "data": {
      "text/plain": [
       "(1, 3, 128, 128)"
      ]
     },
     "execution_count": 38,
     "metadata": {},
     "output_type": "execute_result"
    }
   ],
   "source": [
    "cv2.dnn.blobFromImage(frame, 1.0/255.0, (128, 128)).shape"
   ]
  },
  {
   "cell_type": "code",
   "execution_count": null,
   "id": "50b3e192",
   "metadata": {},
   "outputs": [],
   "source": []
  }
 ],
 "metadata": {
  "kernelspec": {
   "display_name": "mukham",
   "language": "python",
   "name": "mukham"
  },
  "language_info": {
   "codemirror_mode": {
    "name": "ipython",
    "version": 3
   },
   "file_extension": ".py",
   "mimetype": "text/x-python",
   "name": "python",
   "nbconvert_exporter": "python",
   "pygments_lexer": "ipython3",
   "version": "3.7.3"
  }
 },
 "nbformat": 4,
 "nbformat_minor": 5
}
