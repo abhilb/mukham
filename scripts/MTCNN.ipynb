{
 "cells": [
  {
   "cell_type": "code",
   "execution_count": 3,
   "id": "d5a1456f",
   "metadata": {},
   "outputs": [],
   "source": [
    "from pathlib import Path\n",
    "import tflite\n",
    "import tvm\n",
    "from tvm import relay, transform\n",
    "from tvm import te\n",
    "import matplotlib.pyplot as plt\n",
    "import imageio\n",
    "import cv2\n",
    "import numpy as np\n",
    "from google.protobuf import text_format\n",
    "from tvm.relay.frontend import caffe2 as pb\n",
    "import logging\n",
    "logging.basicConfig(level=logging.INFO)"
   ]
  },
  {
   "cell_type": "code",
   "execution_count": 11,
   "id": "6ff6ed75",
   "metadata": {},
   "outputs": [
    {
     "data": {
      "text/plain": [
       "PosixPath('/home/pi/Downloads/mtcnn')"
      ]
     },
     "execution_count": 11,
     "metadata": {},
     "output_type": "execute_result"
    }
   ],
   "source": [
    "model_path = Path('/home/pi/Downloads/mtcnn')\n",
    "model_path"
   ]
  },
  {
   "cell_type": "code",
   "execution_count": 25,
   "id": "aec08c5a",
   "metadata": {},
   "outputs": [
    {
     "data": {
      "text/plain": [
       "(True, True)"
      ]
     },
     "execution_count": 25,
     "metadata": {},
     "output_type": "execute_result"
    }
   ],
   "source": [
    "caffe_model = model_path / 'det1.caffemodel'\n",
    "proto_txt = model_path / 'det1.prototxt'\n",
    "proto_txt.exists(), caffe_model.exists()"
   ]
  },
  {
   "cell_type": "code",
   "execution_count": 26,
   "id": "818e3c0c",
   "metadata": {},
   "outputs": [],
   "source": [
    "net = cv2.dnn.readNetFromCaffe(str(proto_txt))"
   ]
  },
  {
   "cell_type": "code",
   "execution_count": 27,
   "id": "66d71f73",
   "metadata": {},
   "outputs": [],
   "source": [
    "?net.dumpToFile"
   ]
  },
  {
   "cell_type": "code",
   "execution_count": null,
   "id": "46ee9f49",
   "metadata": {},
   "outputs": [],
   "source": []
  }
 ],
 "metadata": {
  "kernelspec": {
   "display_name": "mukham",
   "language": "python",
   "name": "mukham"
  },
  "language_info": {
   "codemirror_mode": {
    "name": "ipython",
    "version": 3
   },
   "file_extension": ".py",
   "mimetype": "text/x-python",
   "name": "python",
   "nbconvert_exporter": "python",
   "pygments_lexer": "ipython3",
   "version": "3.7.3"
  }
 },
 "nbformat": 4,
 "nbformat_minor": 5
}
