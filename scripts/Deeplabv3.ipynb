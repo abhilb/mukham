{
 "cells": [
  {
   "cell_type": "code",
   "execution_count": null,
   "id": "18f62131",
   "metadata": {},
   "outputs": [],
   "source": [
    "from pathlib import Path\n",
    "import tvm\n",
    "from tvm import te, relay, transform\n",
    "from tvm.contrib import graph_executor as runtime\n",
    "import imageio\n",
    "import matplotlib.pyplot as plt\n",
    "import cv2\n",
    "import numpy as np\n",
    "import tflite"
   ]
  },
  {
   "cell_type": "code",
   "execution_count": null,
   "id": "e504822d",
   "metadata": {},
   "outputs": [],
   "source": [
    "model_path = Path.cwd().parent / 'models' / 'deeplabv3' / 'lite-model_deeplabv3_1_metadata_2.tflite'\n",
    "model_path.exists()"
   ]
  },
  {
   "cell_type": "code",
   "execution_count": null,
   "id": "3a2c0bf9",
   "metadata": {},
   "outputs": [],
   "source": [
    "with open(model_path, 'rb') as f:\n",
    "    tflite_model_buf = f.read()\n",
    "    tflite_model = tflite.Model.GetRootAsModel(tflite_model_buf, 0)\n",
    "    input_tensor = \"sub_7\"\n",
    "    input_shape  = (1, 257, 257, 3)\n",
    "    input_dtype  = \"float32\"\n",
    "    \n",
    "    mod, params = relay.frontend.from_tflite(\n",
    "        tflite_model, \n",
    "        shape_dict = {input_tensor: input_shape},\n",
    "        dtype_dict = {input_tensor: input_dtype}\n",
    "    )\n",
    "    target = \"llvm\"\n",
    "    \n",
    "    desired_layouts = {'nn.conv2d': ['NCHW', 'default']}\n",
    "\n",
    "    # Convert the layout to NCHW\n",
    "    seq = tvm.transform.Sequential([relay.transform.RemoveUnusedFunctions(),\n",
    "                                    relay.transform.ConvertLayout(desired_layouts)])\n",
    "    \n",
    "    with transform.PassContext(opt_level=3):\n",
    "        mod = seq(mod)\n",
    "        lib=relay.build(mod, target, params=params)\n",
    "        lib.export_library(str(model_path.with_suffix('.so')))"
   ]
  },
  {
   "cell_type": "code",
   "execution_count": null,
   "id": "0a7a85e2",
   "metadata": {},
   "outputs": [],
   "source": [
    "video_path = Path.cwd().parent / \"assets\" / \"head-pose-face-detection-male.mp4\"\n",
    "print(f\"Video exists: {video_path.exists()}\")\n",
    "reader = imageio.get_reader(str(video_path))\n",
    "original_image = reader.get_data(0)\n",
    "r, c, _ = original_image.shape\n",
    "print(original_image.shape)"
   ]
  },
  {
   "cell_type": "code",
   "execution_count": null,
   "id": "edb951b7",
   "metadata": {},
   "outputs": [],
   "source": [
    "image = cv2.resize(original_image, (257, 257), cv2.INTER_AREA)\n",
    "image_data = (image / 127.5) - 1.0\n",
    "image_data = image_data[np.newaxis, :].astype(np.float32)\n",
    "print(image_data.shape)\n",
    "print(image_data.dtype)"
   ]
  },
  {
   "cell_type": "code",
   "execution_count": null,
   "id": "1a337eb9",
   "metadata": {},
   "outputs": [],
   "source": [
    "module = runtime.GraphModule(lib[\"default\"](tvm.cpu()))\n",
    "module.set_input(\"sub_7\", tvm.nd.array(image_data))\n",
    "module.run()\n",
    "segmentation_map = np.squeeze(module.get_output(0).numpy())\n",
    "print(segmentation_map.shape)\n",
    "print(np.max(segmentation_map))\n",
    "print(np.min(segmentation_map))"
   ]
  },
  {
   "cell_type": "code",
   "execution_count": null,
   "id": "e5244e08",
   "metadata": {},
   "outputs": [],
   "source": [
    "seg_mask = cv2.resize(segmentation_map, (c,r))\n",
    "converted_mask = np.zeros((r,c))\n",
    "converted_mask = np.argmax(seg_mask, axis=2)\n",
    "\n",
    "image_copy = original_image.copy()\n",
    "image_copy[converted_mask != 15.0] = 0.0\n",
    "f, ax = plt.subplots(1,2)\n",
    "f.set_size_inches((20, 25))\n",
    "ax[0].imshow(converted_mask)\n",
    "ax[1].imshow(image_copy)\n",
    "plt.show()"
   ]
  }
 ],
 "metadata": {
  "kernelspec": {
   "display_name": "mukham",
   "language": "python",
   "name": "mukham"
  },
  "language_info": {
   "codemirror_mode": {
    "name": "ipython",
    "version": 3
   },
   "file_extension": ".py",
   "mimetype": "text/x-python",
   "name": "python",
   "nbconvert_exporter": "python",
   "pygments_lexer": "ipython3",
   "version": "3.7.3"
  }
 },
 "nbformat": 4,
 "nbformat_minor": 5
}
