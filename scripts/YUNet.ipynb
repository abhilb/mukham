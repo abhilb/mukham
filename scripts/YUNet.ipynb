{
 "cells": [
  {
   "cell_type": "code",
   "execution_count": 29,
   "id": "80b3369f",
   "metadata": {},
   "outputs": [],
   "source": [
    "from pathlib import Path\n",
    "\n",
    "import tvm\n",
    "from tvm import te\n",
    "from tvm.contrib import graph_executor as runtime\n",
    "from tvm import relay, transform\n",
    "\n",
    "import onnx\n",
    "\n",
    "import imageio\n",
    "import matplotlib.pyplot as plt\n",
    "import logging\n",
    "\n",
    "import numpy as np\n",
    "from PIL import Image"
   ]
  },
  {
   "cell_type": "code",
   "execution_count": 9,
   "id": "2670d8f9",
   "metadata": {},
   "outputs": [],
   "source": [
    "model_file = Path.cwd().parent / 'models' / 'yunet' / 'yunet.onnx'\n",
    "if not model_file.exists():\n",
    "    logging.error(f'Model file {model_file} not found')"
   ]
  },
  {
   "cell_type": "code",
   "execution_count": 11,
   "id": "3d9eaf65",
   "metadata": {},
   "outputs": [],
   "source": [
    "onnx_model = onnx.load(model_file)"
   ]
  },
  {
   "cell_type": "code",
   "execution_count": 28,
   "id": "8b3675b4",
   "metadata": {},
   "outputs": [],
   "source": [
    "target = \"llvm\"\n",
    "\n",
    "input_tensor = \"input\"\n",
    "shape_dict = {input_tensor: (1, 3, 320, 240)}\n",
    "mod, params = relay.frontend.from_onnx(onnx_model, shape_dict)\n",
    "\n",
    "target = \"llvm\"\n",
    "with transform.PassContext(opt_level=3):\n",
    "    lib=relay.build(mod, target, params=params)"
   ]
  },
  {
   "cell_type": "code",
   "execution_count": 33,
   "id": "90dc5460",
   "metadata": {},
   "outputs": [
    {
     "data": {
      "text/plain": [
       "(5184, 3456, 3)"
      ]
     },
     "execution_count": 33,
     "metadata": {},
     "output_type": "execute_result"
    }
   ],
   "source": [
    "img = imageio.imread(Path.cwd().parent / 'assets' / 'pexels-yaroslav-chaadaev-9303791.jpg')\n",
    "img.shape"
   ]
  },
  {
   "cell_type": "code",
   "execution_count": 35,
   "id": "f14c17f6",
   "metadata": {},
   "outputs": [],
   "source": [
    "pil_image = Image.fromarray(img)\n",
    "img = np.asarray(pil_image.resize((320, 240), Image.BILINEAR))"
   ]
  },
  {
   "cell_type": "code",
   "execution_count": 36,
   "id": "9c0b3dfa",
   "metadata": {},
   "outputs": [
    {
     "data": {
      "text/plain": [
       "(3, 240, 320)"
      ]
     },
     "execution_count": 36,
     "metadata": {},
     "output_type": "execute_result"
    }
   ],
   "source": [
    "img = np.transpose(img, (2, 0, 1))\n",
    "img.shape"
   ]
  },
  {
   "cell_type": "code",
   "execution_count": 44,
   "id": "37fdf82f",
   "metadata": {},
   "outputs": [],
   "source": [
    "img = img / 255.0\n",
    "img = img.astype(np.float32)"
   ]
  },
  {
   "cell_type": "code",
   "execution_count": 45,
   "id": "df4fb47d",
   "metadata": {},
   "outputs": [
    {
     "data": {
      "text/plain": [
       "(1, 3, 240, 320)"
      ]
     },
     "execution_count": 45,
     "metadata": {},
     "output_type": "execute_result"
    }
   ],
   "source": [
    "image_data = img[np.newaxis]\n",
    "image_data.shape"
   ]
  },
  {
   "cell_type": "code",
   "execution_count": 46,
   "id": "bc651dd0",
   "metadata": {},
   "outputs": [],
   "source": [
    "# Create a runtime executor module\n",
    "module = runtime.GraphModule(lib[\"default\"](tvm.cpu()))\n",
    "\n",
    "# Feed input data\n",
    "module.set_input(input_tensor, tvm.nd.array(image_data))\n",
    "\n",
    "# Run\n",
    "module.run()"
   ]
  },
  {
   "cell_type": "code",
   "execution_count": 47,
   "id": "8f9ffb1d",
   "metadata": {},
   "outputs": [],
   "source": [
    "confidence = module.get_output(0).numpy()\n",
    "location = module.get_output(1).numpy()\n",
    "iou = module.get_output(2).numpy()"
   ]
  },
  {
   "cell_type": "code",
   "execution_count": 64,
   "id": "24019b43",
   "metadata": {},
   "outputs": [
    {
     "data": {
      "text/plain": [
       "(4385, 2)"
      ]
     },
     "execution_count": 64,
     "metadata": {},
     "output_type": "execute_result"
    }
   ],
   "source": [
    "location.shape"
   ]
  },
  {
   "cell_type": "code",
   "execution_count": null,
   "id": "6c5a0b61",
   "metadata": {},
   "outputs": [],
   "source": []
  }
 ],
 "metadata": {
  "kernelspec": {
   "display_name": "mukham",
   "language": "python",
   "name": "mukham"
  },
  "language_info": {
   "codemirror_mode": {
    "name": "ipython",
    "version": 3
   },
   "file_extension": ".py",
   "mimetype": "text/x-python",
   "name": "python",
   "nbconvert_exporter": "python",
   "pygments_lexer": "ipython3",
   "version": "3.7.3"
  }
 },
 "nbformat": 4,
 "nbformat_minor": 5
}
