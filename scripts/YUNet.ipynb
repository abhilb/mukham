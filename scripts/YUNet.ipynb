{
 "cells": [
  {
   "cell_type": "code",
   "execution_count": 29,
   "id": "6448069b",
   "metadata": {},
   "outputs": [],
   "source": [
    "from pathlib import Path\n",
    "\n",
    "import tvm\n",
    "from tvm import te\n",
    "from tvm.contrib import graph_executor as runtime\n",
    "from tvm import relay, transform\n",
    "\n",
    "import onnx\n",
    "\n",
    "import imageio\n",
    "import matplotlib.pyplot as plt\n",
    "import logging\n",
    "\n",
    "import numpy as np\n",
    "from PIL import Image"
   ]
  },
  {
   "cell_type": "code",
   "execution_count": 9,
   "id": "a91f63bc",
   "metadata": {},
   "outputs": [],
   "source": [
    "model_file = Path.cwd().parent / 'models' / 'yunet' / 'yunet.onnx'\n",
    "if not model_file.exists():\n",
    "    logging.error(f'Model file {model_file} not found')"
   ]
  },
  {
   "cell_type": "code",
   "execution_count": 11,
   "id": "18fa30b9",
   "metadata": {},
   "outputs": [],
   "source": [
    "onnx_model = onnx.load(model_file)"
   ]
  },
  {
   "cell_type": "code",
   "execution_count": 28,
   "id": "f3051e96",
   "metadata": {},
   "outputs": [],
   "source": [
    "target = \"llvm\"\n",
    "\n",
    "input_tensor = \"input\"\n",
    "shape_dict = {input_tensor: (1, 3, 320, 240)}\n",
    "mod, params = relay.frontend.from_onnx(onnx_model, shape_dict)\n",
    "\n",
    "target = \"llvm\"\n",
    "with transform.PassContext(opt_level=3):\n",
    "    lib=relay.build(mod, target, params=params)"
   ]
  },
  {
   "cell_type": "code",
   "execution_count": 33,
   "id": "03430c54",
   "metadata": {},
   "outputs": [
    {
     "data": {
      "text/plain": [
       "(5184, 3456, 3)"
      ]
     },
     "execution_count": 33,
     "metadata": {},
     "output_type": "execute_result"
    }
   ],
   "source": [
    "img = imageio.imread(Path.cwd().parent / 'assets' / 'pexels-yaroslav-chaadaev-9303791.jpg')\n",
    "img.shape"
   ]
  },
  {
   "cell_type": "code",
   "execution_count": 35,
   "id": "3763d19c",
   "metadata": {},
   "outputs": [],
   "source": [
    "pil_image = Image.fromarray(img)\n",
    "img = np.asarray(pil_image.resize((320, 240), Image.BILINEAR))"
   ]
  },
  {
   "cell_type": "code",
   "execution_count": 36,
   "id": "471407fa",
   "metadata": {},
   "outputs": [
    {
     "data": {
      "text/plain": [
       "(3, 240, 320)"
      ]
     },
     "execution_count": 36,
     "metadata": {},
     "output_type": "execute_result"
    }
   ],
   "source": [
    "img = np.transpose(img, (2, 0, 1))\n",
    "img.shape"
   ]
  },
  {
   "cell_type": "code",
   "execution_count": 44,
   "id": "6f8ecdde",
   "metadata": {},
   "outputs": [],
   "source": [
    "img = img / 255.0\n",
    "img = img.astype(np.float32)"
   ]
  },
  {
   "cell_type": "code",
   "execution_count": 45,
   "id": "e146ab21",
   "metadata": {},
   "outputs": [
    {
     "data": {
      "text/plain": [
       "(1, 3, 240, 320)"
      ]
     },
     "execution_count": 45,
     "metadata": {},
     "output_type": "execute_result"
    }
   ],
   "source": [
    "image_data = img[np.newaxis]\n",
    "image_data.shape"
   ]
  },
  {
   "cell_type": "code",
   "execution_count": 46,
   "id": "b8faae7d",
   "metadata": {},
   "outputs": [],
   "source": [
    "# Create a runtime executor module\n",
    "module = runtime.GraphModule(lib[\"default\"](tvm.cpu()))\n",
    "\n",
    "# Feed input data\n",
    "module.set_input(input_tensor, tvm.nd.array(image_data))\n",
    "\n",
    "# Run\n",
    "module.run()"
   ]
  },
  {
   "cell_type": "code",
   "execution_count": 47,
   "id": "099b5fa4",
   "metadata": {},
   "outputs": [],
   "source": [
    "confidence = module.get_output(0).numpy()\n",
    "location = module.get_output(1).numpy()\n",
    "iou = module.get_output(2).numpy()"
   ]
  },
  {
   "cell_type": "code",
   "execution_count": null,
   "id": "91bc1f0d",
   "metadata": {},
   "outputs": [],
   "source": []
  }
 ],
 "metadata": {
  "kernelspec": {
   "display_name": "mukham",
   "language": "python",
   "name": "mukham"
  },
  "language_info": {
   "codemirror_mode": {
    "name": "ipython",
    "version": 3
   },
   "file_extension": ".py",
   "mimetype": "text/x-python",
   "name": "python",
   "nbconvert_exporter": "python",
   "pygments_lexer": "ipython3",
   "version": "3.7.3"
  }
 },
 "nbformat": 4,
 "nbformat_minor": 5
}
